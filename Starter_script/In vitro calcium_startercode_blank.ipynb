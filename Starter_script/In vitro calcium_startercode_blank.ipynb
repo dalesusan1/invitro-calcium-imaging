{
 "cells": [
  {
   "cell_type": "markdown",
   "metadata": {},
   "source": [
    "### Checklist\n",
    "\n",
    "* Re-name header to ROI\n",
    "* The script and the csv file has to be in the same folder, if not modify path\n",
    "* Enter correct values for baseline and treatments\n",
    "* For all cells with plot_ manually select the ROIs \n",
    "* Cross-check logic in cells where data frames are being merged\n",
    "* Change labels appropriately in summary table\n",
    "* Name the export sheets appropriately\n"
   ]
  },
  {
   "cell_type": "code",
   "execution_count": 1,
   "metadata": {},
   "outputs": [],
   "source": [
    "import pandas as pd\n",
    "import openpyxl \n",
    "import numpy as np\n",
    "import matplotlib.pyplot as plt\n",
    "%matplotlib notebook"
   ]
  },
  {
   "cell_type": "code",
   "execution_count": 2,
   "metadata": {},
   "outputs": [],
   "source": [
    "#import csv\n",
    "raw = \"\" #input correct path"
   ]
  },
  {
   "cell_type": "code",
   "execution_count": 3,
   "metadata": {},
   "outputs": [],
   "source": [
    "#### Defining Normalization function\n",
    "\n",
    "def Normalization(baseline):\n",
    "    raw_df = pd.read_excel(raw)\n",
    "    average = raw_df.loc[raw_df[\"Time (sec)\"] <= baseline]\n",
    "    average = average.set_index('Time (sec)').mean()\n",
    "\n",
    "# Setting index to help with calculation\n",
    "    raw_df = raw_df.set_index(\"Time (sec)\")\n",
    "\n",
    "# Normalizing\n",
    "    normalization = raw_df/average\n",
    "    normalization = normalization.reset_index()\n",
    "    return normalization\n",
    "\n",
    "#### Defining function for calculating responders\n",
    "'''input the start and end time for each treatment'''\n",
    "\n",
    "def Responders(start, end):\n",
    "    \n",
    "# Determining the value at the start time of drug addition and determining the cut-off for response\n",
    "    start_value = normalization.loc[normalization[\"Time (sec)\"] == start]\n",
    "    start_value = start_value.set_index(\"Time (sec)\")\n",
    "    cut_off = start_value + 0.2\n",
    "    \n",
    "#Selecting the duration of treatment\n",
    "    duration = normalization.loc[(normalization[\"Time (sec)\"] >= start) & (normalization[\"Time (sec)\"] <= end)]\n",
    "    duration = duration.set_index(\"Time (sec)\")\n",
    "    duration_max = duration.max()\n",
    "    \n",
    "#Determining responders\n",
    "    responders = duration_max > cut_off\n",
    "    responders = responders.transpose().reset_index()\n",
    "    responders.columns=[\"cells\", \"response\"]\n",
    "    responders = responders.loc[responders[\"response\"] == True]\n",
    "    return responders\n"
   ]
  },
  {
   "cell_type": "code",
   "execution_count": 14,
   "metadata": {},
   "outputs": [
    {
     "data": {
      "text/html": [
       "<div>\n",
       "<style scoped>\n",
       "    .dataframe tbody tr th:only-of-type {\n",
       "        vertical-align: middle;\n",
       "    }\n",
       "\n",
       "    .dataframe tbody tr th {\n",
       "        vertical-align: top;\n",
       "    }\n",
       "\n",
       "    .dataframe thead th {\n",
       "        text-align: right;\n",
       "    }\n",
       "</style>\n",
       "<table border=\"1\" class=\"dataframe\">\n",
       "  <thead>\n",
       "    <tr style=\"text-align: right;\">\n",
       "      <th></th>\n",
       "      <th>Time (sec)</th>\n",
       "      <th>ROI 1</th>\n",
       "      <th>ROI 2</th>\n",
       "      <th>ROI 3</th>\n",
       "      <th>ROI 4</th>\n",
       "      <th>ROI 5</th>\n",
       "      <th>ROI 6</th>\n",
       "      <th>ROI 7</th>\n",
       "      <th>ROI 8</th>\n",
       "      <th>ROI 9</th>\n",
       "      <th>...</th>\n",
       "      <th>ROI 51</th>\n",
       "      <th>ROI 52</th>\n",
       "      <th>ROI 53</th>\n",
       "      <th>ROI 54</th>\n",
       "      <th>ROI 55</th>\n",
       "      <th>ROI 56</th>\n",
       "      <th>ROI 57</th>\n",
       "      <th>ROI 58</th>\n",
       "      <th>ROI 59</th>\n",
       "      <th>ROI 60</th>\n",
       "    </tr>\n",
       "  </thead>\n",
       "  <tbody>\n",
       "    <tr>\n",
       "      <td>0</td>\n",
       "      <td>0.58</td>\n",
       "      <td>0.972484</td>\n",
       "      <td>0.977364</td>\n",
       "      <td>0.971757</td>\n",
       "      <td>0.962826</td>\n",
       "      <td>0.957783</td>\n",
       "      <td>0.976978</td>\n",
       "      <td>0.968941</td>\n",
       "      <td>0.967598</td>\n",
       "      <td>0.974217</td>\n",
       "      <td>...</td>\n",
       "      <td>0.985706</td>\n",
       "      <td>0.967781</td>\n",
       "      <td>0.974891</td>\n",
       "      <td>0.994969</td>\n",
       "      <td>0.965882</td>\n",
       "      <td>0.946987</td>\n",
       "      <td>0.970416</td>\n",
       "      <td>0.991350</td>\n",
       "      <td>0.963023</td>\n",
       "      <td>0.97517</td>\n",
       "    </tr>\n",
       "    <tr>\n",
       "      <td>1</td>\n",
       "      <td>3.59</td>\n",
       "      <td>0.976101</td>\n",
       "      <td>0.969516</td>\n",
       "      <td>0.976093</td>\n",
       "      <td>0.975765</td>\n",
       "      <td>0.955541</td>\n",
       "      <td>0.968165</td>\n",
       "      <td>0.978052</td>\n",
       "      <td>0.970165</td>\n",
       "      <td>0.977147</td>\n",
       "      <td>...</td>\n",
       "      <td>0.980226</td>\n",
       "      <td>0.984814</td>\n",
       "      <td>0.970063</td>\n",
       "      <td>0.989208</td>\n",
       "      <td>0.986718</td>\n",
       "      <td>0.950197</td>\n",
       "      <td>0.977047</td>\n",
       "      <td>0.982816</td>\n",
       "      <td>0.973881</td>\n",
       "      <td>0.98401</td>\n",
       "    </tr>\n",
       "  </tbody>\n",
       "</table>\n",
       "<p>2 rows × 61 columns</p>\n",
       "</div>"
      ],
      "text/plain": [
       "   Time (sec)     ROI 1     ROI 2     ROI 3     ROI 4     ROI 5     ROI 6  \\\n",
       "0        0.58  0.972484  0.977364  0.971757  0.962826  0.957783  0.976978   \n",
       "1        3.59  0.976101  0.969516  0.976093  0.975765  0.955541  0.968165   \n",
       "\n",
       "      ROI 7     ROI 8     ROI 9  ...    ROI 51    ROI 52    ROI 53    ROI 54  \\\n",
       "0  0.968941  0.967598  0.974217  ...  0.985706  0.967781  0.974891  0.994969   \n",
       "1  0.978052  0.970165  0.977147  ...  0.980226  0.984814  0.970063  0.989208   \n",
       "\n",
       "     ROI 55    ROI 56    ROI 57    ROI 58    ROI 59   ROI 60  \n",
       "0  0.965882  0.946987  0.970416  0.991350  0.963023  0.97517  \n",
       "1  0.986718  0.950197  0.977047  0.982816  0.973881  0.98401  \n",
       "\n",
       "[2 rows x 61 columns]"
      ]
     },
     "execution_count": 14,
     "metadata": {},
     "output_type": "execute_result"
    }
   ],
   "source": [
    "#Call the functions\n",
    "normalization = Normalization(#insert baseline value) \n",
    "normalization.head(2)"
   ]
  },
  {
   "cell_type": "code",
   "execution_count": 10,
   "metadata": {},
   "outputs": [
    {
     "data": {
      "text/html": [
       "<div>\n",
       "<style scoped>\n",
       "    .dataframe tbody tr th:only-of-type {\n",
       "        vertical-align: middle;\n",
       "    }\n",
       "\n",
       "    .dataframe tbody tr th {\n",
       "        vertical-align: top;\n",
       "    }\n",
       "\n",
       "    .dataframe thead th {\n",
       "        text-align: right;\n",
       "    }\n",
       "</style>\n",
       "<table border=\"1\" class=\"dataframe\">\n",
       "  <thead>\n",
       "    <tr style=\"text-align: right;\">\n",
       "      <th></th>\n",
       "      <th>cells</th>\n",
       "      <th>response</th>\n",
       "    </tr>\n",
       "  </thead>\n",
       "  <tbody>\n",
       "    <tr>\n",
       "      <td>0</td>\n",
       "      <td>ROI 1</td>\n",
       "      <td>True</td>\n",
       "    </tr>\n",
       "    <tr>\n",
       "      <td>24</td>\n",
       "      <td>ROI 25</td>\n",
       "      <td>True</td>\n",
       "    </tr>\n",
       "  </tbody>\n",
       "</table>\n",
       "</div>"
      ],
      "text/plain": [
       "     cells  response\n",
       "0    ROI 1      True\n",
       "24  ROI 25      True"
      ]
     },
     "execution_count": 10,
     "metadata": {},
     "output_type": "execute_result"
    }
   ],
   "source": [
    "#Calculate responders for all treatments by defining t2_responders, t3_responders etc\n",
    "\n",
    "t1_responders = Responders(#insert start , #insert end time )\n",
    "t1_responders"
   ]
  },
  {
   "cell_type": "code",
   "execution_count": null,
   "metadata": {},
   "outputs": [],
   "source": [
    "# select the correct labels from the output of the previous cells to call in the correct ROIs\n",
    "plot_t1 = normalization[[\"Time (sec)\", \\\n",
    "                         \"ROI \", \"ROI \"]]"
   ]
  },
  {
   "cell_type": "code",
   "execution_count": null,
   "metadata": {
    "scrolled": true
   },
   "outputs": [],
   "source": [
    "# Cells that responded to any beta-alanine treatment : Choose all treatments where beta-alanine was added sequential merging\n",
    "# Change labels\n",
    "any_ba = pd.merge(t1_responders, t2_responders, on=\"cells\", how=\"outer\")\n",
    "any_ba = pd.merge(any_ba, t3_responders, on=\"cells\", how=\"outer\")\n",
    "\n",
    "#Rename accurately\n",
    "any_ba = any_ba.rename(columns={\"response_x\": \"Beta-alanine (1um)\",\n",
    "                                \"response_y\": \"Beta-alanine (5um)\",\n",
    "                                \"response\": \"Beta-alanine (10um)\"})\n",
    "any_ba"
   ]
  },
  {
   "cell_type": "code",
   "execution_count": null,
   "metadata": {},
   "outputs": [],
   "source": [
    "plot_any_ba = normalization[[\"Time (sec)\", \n",
    "                         \"ROI \", \"ROI \"]]"
   ]
  },
  {
   "cell_type": "code",
   "execution_count": null,
   "metadata": {},
   "outputs": [],
   "source": [
    "#cells that responded to all beta-alanine treatment: Choose all treatments where beta-alanine was added\n",
    "all_ba = pd.merge(t1_responders, t2_responders, on=\"cells\", how=\"inner\")\n",
    "all_ba = pd.merge(all_ba, t3_responders, on=\"cells\", how=\"inner\")\n",
    "\n",
    "all_ba = all_ba.rename(columns={\"response_x\": \"Beta-alanine (1um)\",\n",
    "                                \"response_y\": \"Beta-alanine (5um)\",\n",
    "                                \"response\": \"Beta-alanine (10um)\"})\n",
    "all_ba"
   ]
  },
  {
   "cell_type": "code",
   "execution_count": null,
   "metadata": {},
   "outputs": [],
   "source": [
    "plot_all_ba = normalization[[\"Time (sec)\"]]"
   ]
  },
  {
   "cell_type": "code",
   "execution_count": null,
   "metadata": {},
   "outputs": [],
   "source": [
    "#cells that responded to both capsaicin and any beta-alanine\n",
    "ba_cap = pd.merge(any_ba, t4_responders, on=\"cells\", how=\"inner\")\n",
    "ba_cap = ba_cap.rename(columns={\"response\": \"Capsaicin\"})\n",
    "ba_cap"
   ]
  },
  {
   "cell_type": "code",
   "execution_count": null,
   "metadata": {},
   "outputs": [],
   "source": [
    "plot_ba_cap = normalization[[\"Time (sec)\", \n",
    "                         \"ROI \", \"ROI \"]]"
   ]
  },
  {
   "cell_type": "code",
   "execution_count": null,
   "metadata": {},
   "outputs": [],
   "source": [
    "# cells that did responded to any treatment\n",
    "any_treatment = pd.merge(any_ba, t4_responders, how=\"outer\")\n",
    "any_treatment = any_treatment.rename(columns={\"response\": \"Capsaicin\"})\n",
    "any_treatment = pd.merge(any_treatment, t5_responders, how=\"outer\")\n",
    "any_treatment = any_treatment.rename(columns={\"response\": \"HK\"})\n",
    "any_treatment"
   ]
  },
  {
   "cell_type": "code",
   "execution_count": null,
   "metadata": {},
   "outputs": [],
   "source": [
    "#Determining % of reponders\n",
    "per_t1_responders = round(t1_responders[\"cells\"].count()/any_treatment[\"cells\"].count()*100, 2)\n",
    "per_t2_responders = round(t2_responders[\"cells\"].count()/any_treatment[\"cells\"].count()*100, 2)\n",
    "per_t3_responders = round(t3_responders[\"cells\"].count()/any_treatment[\"cells\"].count()*100, 2)\n",
    "per_t4_responders = round(t4_responders[\"cells\"].count()/any_treatment[\"cells\"].count()*100, 2)\n",
    "per_t5_responders = round(t5_responders[\"cells\"].count()/any_treatment[\"cells\"].count()*100, 2)\n",
    "\n",
    "per_any_ba = round(any_ba[\"cells\"].count()/any_treatment[\"cells\"].count()*100, 2)\n",
    "per_all_ba = round(all_ba[\"cells\"].count()/any_treatment[\"cells\"].count()*100, 2)\n",
    "per_ba_cap = round(ba_cap[\"cells\"].count()/any_treatment[\"cells\"].count()*100, 2)\n"
   ]
  },
  {
   "cell_type": "code",
   "execution_count": null,
   "metadata": {},
   "outputs": [],
   "source": [
    "treatment_summary = pd.DataFrame({\"Beta alanine (1um)\": [per_t1_responders],\n",
    "                      \"Beta alanine (5um)\": [per_t2_responders],\n",
    "                      \"Beta alanine (10um)\": [per_t3_responders],\n",
    "                      \"Capsaicin (10 um)\": [per_t4_responders],\n",
    "                       \"HK\": [per_t5_responders],\n",
    "                       \"Any Beta alanine\": [per_any_ba],\n",
    "                       \"All Beta alanine\": [per_all_ba],\n",
    "                       \"Beta alanine and capsaicin\": [per_ba_cap]})\n",
    "\n",
    "treatment_summary\n"
   ]
  },
  {
   "cell_type": "code",
   "execution_count": null,
   "metadata": {},
   "outputs": [],
   "source": [
    "# Exporting files\n",
    "\n",
    "with pd.ExcelWriter('output.xlsx') as writer:  \n",
    "    plot_t1.to_excel(writer, sheet_name='t1', index=False)\n",
    "    plot_t2.to_excel(writer, sheet_name='t2', index=False)\n",
    "    plot_t3.to_excel(writer, sheet_name='t3', index=False)\n",
    "    plot_t4.to_excel(writer, sheet_name='t4', index=False)\n",
    "    plot_t5.to_excel(writer, sheet_name='t5', index=False)\n",
    "    plot_any_ba.to_excel(writer, sheet_name='any_ba', index=False)\n",
    "    plot_all_ba.to_excel(writer, sheet_name='all_ba', index=False)\n",
    "    plot_ba_cap.to_excel(writer, sheet_name='ba_cap', index=False)\n",
    "    treatment_summary.to_excel(writer, sheet_name='summary.csv', index=False)\n",
    "    "
   ]
  }
 ],
 "metadata": {
  "kernelspec": {
   "display_name": "Python 3",
   "language": "python",
   "name": "python3"
  },
  "language_info": {
   "codemirror_mode": {
    "name": "ipython",
    "version": 3
   },
   "file_extension": ".py",
   "mimetype": "text/x-python",
   "name": "python",
   "nbconvert_exporter": "python",
   "pygments_lexer": "ipython3",
   "version": "3.7.4"
  }
 },
 "nbformat": 4,
 "nbformat_minor": 2
}
