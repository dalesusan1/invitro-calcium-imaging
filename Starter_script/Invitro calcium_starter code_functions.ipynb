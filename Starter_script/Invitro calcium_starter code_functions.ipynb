{
 "cells": [
  {
   "cell_type": "markdown",
   "metadata": {},
   "source": [
    "### Checklist\n",
    "\n",
    "* Re-name header to ROI\n",
    "* The script and the excel file has to be in the same folder, if not modify path\n",
    "* Enter correct values for baseline and treatments\n",
    "* For all cells with plot_ manually select the ROIs \n",
    "* Cross-check logic in cells where data frames are being merged\n",
    "* Change labels appropriately in summary table\n",
    "* Name the export sheets appropriately\n"
   ]
  },
  {
   "cell_type": "code",
   "execution_count": 1,
   "metadata": {},
   "outputs": [],
   "source": [
    "import pandas as pd\n",
    "import openpyxl \n",
    "import numpy as np"
   ]
  },
  {
   "cell_type": "code",
   "execution_count": 2,
   "metadata": {},
   "outputs": [],
   "source": [
    "#import excel\n",
    "raw = \"/Users/dalegeorge/Desktop/In vitro calcium/Exp 271/HFD_coverslip2/coverslip2 HFD.xlsm\" ##enter the correct path\n"
   ]
  },
  {
   "cell_type": "code",
   "execution_count": 3,
   "metadata": {},
   "outputs": [
    {
     "data": {
      "text/html": [
       "<div>\n",
       "<style scoped>\n",
       "    .dataframe tbody tr th:only-of-type {\n",
       "        vertical-align: middle;\n",
       "    }\n",
       "\n",
       "    .dataframe tbody tr th {\n",
       "        vertical-align: top;\n",
       "    }\n",
       "\n",
       "    .dataframe thead th {\n",
       "        text-align: right;\n",
       "    }\n",
       "</style>\n",
       "<table border=\"1\" class=\"dataframe\">\n",
       "  <thead>\n",
       "    <tr style=\"text-align: right;\">\n",
       "      <th></th>\n",
       "      <th>Time (sec)</th>\n",
       "      <th>ROI 1</th>\n",
       "      <th>ROI 2</th>\n",
       "      <th>ROI 3</th>\n",
       "      <th>ROI 4</th>\n",
       "      <th>ROI 5</th>\n",
       "      <th>ROI 6</th>\n",
       "      <th>ROI 7</th>\n",
       "      <th>ROI 8</th>\n",
       "      <th>ROI 9</th>\n",
       "      <th>...</th>\n",
       "      <th>ROI 42</th>\n",
       "      <th>ROI 43</th>\n",
       "      <th>ROI 44</th>\n",
       "      <th>ROI 45</th>\n",
       "      <th>ROI 46</th>\n",
       "      <th>ROI 47</th>\n",
       "      <th>ROI 48</th>\n",
       "      <th>ROI 49</th>\n",
       "      <th>ROI 50</th>\n",
       "      <th>ROI 51</th>\n",
       "    </tr>\n",
       "  </thead>\n",
       "  <tbody>\n",
       "    <tr>\n",
       "      <td>0</td>\n",
       "      <td>0.41</td>\n",
       "      <td>0.4145</td>\n",
       "      <td>0.6988</td>\n",
       "      <td>0.4281</td>\n",
       "      <td>0.4767</td>\n",
       "      <td>0.5808</td>\n",
       "      <td>0.5289</td>\n",
       "      <td>0.5031</td>\n",
       "      <td>0.3882</td>\n",
       "      <td>0.4249</td>\n",
       "      <td>...</td>\n",
       "      <td>0.4129</td>\n",
       "      <td>0.5452</td>\n",
       "      <td>0.5349</td>\n",
       "      <td>0.6696</td>\n",
       "      <td>0.5773</td>\n",
       "      <td>0.4689</td>\n",
       "      <td>0.6510</td>\n",
       "      <td>0.4370</td>\n",
       "      <td>0.6012</td>\n",
       "      <td>0.5655</td>\n",
       "    </tr>\n",
       "    <tr>\n",
       "      <td>1</td>\n",
       "      <td>3.41</td>\n",
       "      <td>0.4086</td>\n",
       "      <td>0.6954</td>\n",
       "      <td>0.4276</td>\n",
       "      <td>0.4693</td>\n",
       "      <td>0.5818</td>\n",
       "      <td>0.5360</td>\n",
       "      <td>0.5008</td>\n",
       "      <td>0.3882</td>\n",
       "      <td>0.4200</td>\n",
       "      <td>...</td>\n",
       "      <td>0.4185</td>\n",
       "      <td>0.5522</td>\n",
       "      <td>0.5378</td>\n",
       "      <td>0.6672</td>\n",
       "      <td>0.5742</td>\n",
       "      <td>0.4658</td>\n",
       "      <td>0.6479</td>\n",
       "      <td>0.4422</td>\n",
       "      <td>0.5901</td>\n",
       "      <td>0.5958</td>\n",
       "    </tr>\n",
       "  </tbody>\n",
       "</table>\n",
       "<p>2 rows × 52 columns</p>\n",
       "</div>"
      ],
      "text/plain": [
       "   Time (sec)   ROI 1   ROI 2   ROI 3   ROI 4   ROI 5   ROI 6   ROI 7   ROI 8  \\\n",
       "0        0.41  0.4145  0.6988  0.4281  0.4767  0.5808  0.5289  0.5031  0.3882   \n",
       "1        3.41  0.4086  0.6954  0.4276  0.4693  0.5818  0.5360  0.5008  0.3882   \n",
       "\n",
       "    ROI 9  ...  ROI 42  ROI 43  ROI 44  ROI 45  ROI 46  ROI 47  ROI 48  \\\n",
       "0  0.4249  ...  0.4129  0.5452  0.5349  0.6696  0.5773  0.4689  0.6510   \n",
       "1  0.4200  ...  0.4185  0.5522  0.5378  0.6672  0.5742  0.4658  0.6479   \n",
       "\n",
       "   ROI 49  ROI 50  ROI 51  \n",
       "0  0.4370  0.6012  0.5655  \n",
       "1  0.4422  0.5901  0.5958  \n",
       "\n",
       "[2 rows x 52 columns]"
      ]
     },
     "execution_count": 3,
     "metadata": {},
     "output_type": "execute_result"
    }
   ],
   "source": [
    "# Reading the excel file\n",
    "raw_df = pd.read_excel(raw)\n",
    "raw_df.head(2)"
   ]
  },
  {
   "cell_type": "code",
   "execution_count": null,
   "metadata": {},
   "outputs": [],
   "source": [
    "#Enter the tomato positive ROI into the tomato list\n",
    "tomato = [\"ROI 2\", \"ROI 5\", \"ROI 7\", \"ROI 8\", \"ROI 10\", \"ROI 18\", \"ROI 49\", \"ROI 50\", \"ROI 13\", \"ROI 39\", \"ROI 11\", \"ROI 38\", \"ROI 37\", \"ROI 47\", \"ROI 16\", \"ROI 22\", \"ROI 33\", \"ROI 28\", \"ROI 43\", \"ROI 24\", \"ROI 25\", \"ROI 26\", \"ROI 27\", \"ROI 31\", \"ROI 30\"]\n",
    "len(tomato)"
   ]
  },
  {
   "cell_type": "code",
   "execution_count": 4,
   "metadata": {},
   "outputs": [
    {
     "name": "stdout",
     "output_type": "stream",
     "text": [
      "Enter the duration of baseline: 295.24\n"
     ]
    },
    {
     "data": {
      "text/html": [
       "<div>\n",
       "<style scoped>\n",
       "    .dataframe tbody tr th:only-of-type {\n",
       "        vertical-align: middle;\n",
       "    }\n",
       "\n",
       "    .dataframe tbody tr th {\n",
       "        vertical-align: top;\n",
       "    }\n",
       "\n",
       "    .dataframe thead th {\n",
       "        text-align: right;\n",
       "    }\n",
       "</style>\n",
       "<table border=\"1\" class=\"dataframe\">\n",
       "  <thead>\n",
       "    <tr style=\"text-align: right;\">\n",
       "      <th></th>\n",
       "      <th>Time (sec)</th>\n",
       "      <th>ROI 1</th>\n",
       "      <th>ROI 2</th>\n",
       "      <th>ROI 3</th>\n",
       "      <th>ROI 4</th>\n",
       "      <th>ROI 5</th>\n",
       "      <th>ROI 6</th>\n",
       "      <th>ROI 7</th>\n",
       "      <th>ROI 8</th>\n",
       "      <th>ROI 9</th>\n",
       "      <th>...</th>\n",
       "      <th>ROI 42</th>\n",
       "      <th>ROI 43</th>\n",
       "      <th>ROI 44</th>\n",
       "      <th>ROI 45</th>\n",
       "      <th>ROI 46</th>\n",
       "      <th>ROI 47</th>\n",
       "      <th>ROI 48</th>\n",
       "      <th>ROI 49</th>\n",
       "      <th>ROI 50</th>\n",
       "      <th>ROI 51</th>\n",
       "    </tr>\n",
       "  </thead>\n",
       "  <tbody>\n",
       "    <tr>\n",
       "      <td>0</td>\n",
       "      <td>0.41</td>\n",
       "      <td>0.986955</td>\n",
       "      <td>0.993889</td>\n",
       "      <td>1.016426</td>\n",
       "      <td>0.975419</td>\n",
       "      <td>0.849990</td>\n",
       "      <td>0.979789</td>\n",
       "      <td>0.989096</td>\n",
       "      <td>0.998405</td>\n",
       "      <td>0.995313</td>\n",
       "      <td>...</td>\n",
       "      <td>0.978387</td>\n",
       "      <td>0.979583</td>\n",
       "      <td>0.986057</td>\n",
       "      <td>0.996905</td>\n",
       "      <td>0.991897</td>\n",
       "      <td>1.000899</td>\n",
       "      <td>0.990635</td>\n",
       "      <td>0.984606</td>\n",
       "      <td>0.992132</td>\n",
       "      <td>0.990860</td>\n",
       "    </tr>\n",
       "    <tr>\n",
       "      <td>1</td>\n",
       "      <td>3.41</td>\n",
       "      <td>0.972906</td>\n",
       "      <td>0.989053</td>\n",
       "      <td>1.015239</td>\n",
       "      <td>0.960277</td>\n",
       "      <td>0.851454</td>\n",
       "      <td>0.992942</td>\n",
       "      <td>0.984574</td>\n",
       "      <td>0.998405</td>\n",
       "      <td>0.983835</td>\n",
       "      <td>...</td>\n",
       "      <td>0.991656</td>\n",
       "      <td>0.992160</td>\n",
       "      <td>0.991403</td>\n",
       "      <td>0.993332</td>\n",
       "      <td>0.986571</td>\n",
       "      <td>0.994282</td>\n",
       "      <td>0.985917</td>\n",
       "      <td>0.996322</td>\n",
       "      <td>0.973814</td>\n",
       "      <td>1.043952</td>\n",
       "    </tr>\n",
       "  </tbody>\n",
       "</table>\n",
       "<p>2 rows × 52 columns</p>\n",
       "</div>"
      ],
      "text/plain": [
       "   Time (sec)     ROI 1     ROI 2     ROI 3     ROI 4     ROI 5     ROI 6  \\\n",
       "0        0.41  0.986955  0.993889  1.016426  0.975419  0.849990  0.979789   \n",
       "1        3.41  0.972906  0.989053  1.015239  0.960277  0.851454  0.992942   \n",
       "\n",
       "      ROI 7     ROI 8     ROI 9  ...    ROI 42    ROI 43    ROI 44    ROI 45  \\\n",
       "0  0.989096  0.998405  0.995313  ...  0.978387  0.979583  0.986057  0.996905   \n",
       "1  0.984574  0.998405  0.983835  ...  0.991656  0.992160  0.991403  0.993332   \n",
       "\n",
       "     ROI 46    ROI 47    ROI 48    ROI 49    ROI 50    ROI 51  \n",
       "0  0.991897  1.000899  0.990635  0.984606  0.992132  0.990860  \n",
       "1  0.986571  0.994282  0.985917  0.996322  0.973814  1.043952  \n",
       "\n",
       "[2 rows x 52 columns]"
      ]
     },
     "execution_count": 4,
     "metadata": {},
     "output_type": "execute_result"
    }
   ],
   "source": [
    "#### NORMALIZING\n",
    "\n",
    "# Assign values to variables; Changes for every experiment\n",
    "baseline = float(input(\"Enter the duration of baseline: \")) \n",
    "\n",
    "# Determining the value to normalize by\n",
    "\n",
    "average = raw_df.loc[raw_df[\"Time (sec)\"] <= baseline]\n",
    "average = average.set_index('Time (sec)').mean()\n",
    "\n",
    "# Setting index to help with calculation\n",
    "raw_df = raw_df.set_index(\"Time (sec)\")\n",
    "\n",
    "# Normalizing\n",
    "normalization = raw_df/average\n",
    "normalization = normalization.reset_index()\n",
    "normalization.head(2)\n"
   ]
  },
  {
   "cell_type": "code",
   "execution_count": 5,
   "metadata": {},
   "outputs": [],
   "source": [
    "#### Defining functions to determine responders\n",
    "\n",
    "def Responders(start, end):\n",
    "    start_value = normalization.loc[normalization[\"Time (sec)\"] == start]\n",
    "    start_value = start_value.set_index(\"Time (sec)\")\n",
    "    cut_off = start_value + 0.2\n",
    "    x = normalization.loc[(normalization[\"Time (sec)\"] >= start) & (normalization[\"Time (sec)\"] <= end)]\n",
    "    x = x.set_index(\"Time (sec)\")\n",
    "    x_max = x.max()\n",
    "    responders = x_max > cut_off\n",
    "    responders = responders.transpose().reset_index()\n",
    "    responders.columns=[\"cells\", \"response\"]\n",
    "    responders = responders.loc[responders[\"response\"] == True]\n",
    "    return responders\n",
    "\n",
    "\n",
    "\n",
    "def ListResponders(responders):\n",
    "    list_responders = []\n",
    "    for responder in responders[\"cells\"]:\n",
    "        list_responders.append(responder)\n",
    "    return list_responders\n",
    "\n",
    "\n"
   ]
  },
  {
   "cell_type": "code",
   "execution_count": 6,
   "metadata": {},
   "outputs": [
    {
     "data": {
      "text/plain": [
       "['ROI 1',\n",
       " 'ROI 2',\n",
       " 'ROI 3',\n",
       " 'ROI 4',\n",
       " 'ROI 5',\n",
       " 'ROI 6',\n",
       " 'ROI 8',\n",
       " 'ROI 9',\n",
       " 'ROI 11',\n",
       " 'ROI 12',\n",
       " 'ROI 13',\n",
       " 'ROI 14',\n",
       " 'ROI 15',\n",
       " 'ROI 16',\n",
       " 'ROI 17',\n",
       " 'ROI 19',\n",
       " 'ROI 25',\n",
       " 'ROI 26',\n",
       " 'ROI 27',\n",
       " 'ROI 30',\n",
       " 'ROI 31',\n",
       " 'ROI 32',\n",
       " 'ROI 33',\n",
       " 'ROI 34',\n",
       " 'ROI 36',\n",
       " 'ROI 38',\n",
       " 'ROI 39',\n",
       " 'ROI 42',\n",
       " 'ROI 43',\n",
       " 'ROI 44',\n",
       " 'ROI 45',\n",
       " 'ROI 47',\n",
       " 'ROI 48',\n",
       " 'ROI 49',\n",
       " 'ROI 50',\n",
       " 'ROI 51']"
      ]
     },
     "execution_count": 6,
     "metadata": {},
     "output_type": "execute_result"
    }
   ],
   "source": [
    "t1_responders = Responders(298.24, 662.26)\n",
    "ListResponders(t1_responders)"
   ]
  },
  {
   "cell_type": "code",
   "execution_count": 7,
   "metadata": {},
   "outputs": [
    {
     "name": "stderr",
     "output_type": "stream",
     "text": [
      "/opt/anaconda3/lib/python3.7/site-packages/ipykernel_launcher.py:38: SettingWithCopyWarning: \n",
      "A value is trying to be set on a copy of a slice from a DataFrame.\n",
      "Try using .loc[row_indexer,col_indexer] = value instead\n",
      "\n",
      "See the caveats in the documentation: http://pandas.pydata.org/pandas-docs/stable/user_guide/indexing.html#returning-a-view-versus-a-copy\n"
     ]
    }
   ],
   "source": [
    "plot_t1 = normalization[[\"Time (sec)\",\\ \n",
    "                         'ROI 1',\n",
    "                         'ROI 2',\n",
    "                         'ROI 3',\n",
    "                         'ROI 4',\n",
    "                         'ROI 5',\n",
    "                         'ROI 6',\n",
    "                         'ROI 8',\n",
    "                         'ROI 9',\n",
    "                         'ROI 11',\n",
    "                         'ROI 12',\n",
    "                         'ROI 13',\n",
    "                         'ROI 14',\n",
    "                         'ROI 15',\n",
    "                         'ROI 16',\n",
    "                         'ROI 17',\n",
    "                         'ROI 19',\n",
    "                         'ROI 25',\n",
    "                         'ROI 26',\n",
    "                         'ROI 27',\n",
    "                         'ROI 30',\n",
    "                         'ROI 31',\n",
    "                         'ROI 32',\n",
    "                         'ROI 33',\n",
    "                         'ROI 34',\n",
    "                         'ROI 36',\n",
    "                         'ROI 38',\n",
    "                         'ROI 39',\n",
    "                         'ROI 42',\n",
    "                         'ROI 43',\n",
    "                         'ROI 44',\n",
    "                         'ROI 45',\n",
    "                         'ROI 47',\n",
    "                         'ROI 48',\n",
    "                         'ROI 49',\n",
    "                         'ROI 50',\n",
    "                         'ROI 51']]\n",
    "plot_t1[\"Average\"] = plot_t1.iloc[:, 1:].mean(axis=1)"
   ]
  },
  {
   "cell_type": "code",
   "execution_count": 8,
   "metadata": {},
   "outputs": [
    {
     "data": {
      "text/plain": [
       "['ROI 5', 'ROI 6', 'ROI 8', 'ROI 36', 'ROI 45', 'ROI 51']"
      ]
     },
     "execution_count": 8,
     "metadata": {},
     "output_type": "execute_result"
    }
   ],
   "source": [
    "t2_responders = Responders(665.27, 894.97)\n",
    "ListResponders(t2_responders)"
   ]
  },
  {
   "cell_type": "code",
   "execution_count": 9,
   "metadata": {},
   "outputs": [
    {
     "name": "stderr",
     "output_type": "stream",
     "text": [
      "/opt/anaconda3/lib/python3.7/site-packages/ipykernel_launcher.py:2: SettingWithCopyWarning: \n",
      "A value is trying to be set on a copy of a slice from a DataFrame.\n",
      "Try using .loc[row_indexer,col_indexer] = value instead\n",
      "\n",
      "See the caveats in the documentation: http://pandas.pydata.org/pandas-docs/stable/user_guide/indexing.html#returning-a-view-versus-a-copy\n",
      "  \n"
     ]
    }
   ],
   "source": [
    "plot_t2 = normalization[[\"Time (sec)\",\\\n",
    "                         'ROI 5', 'ROI 6', 'ROI 8', 'ROI 36', 'ROI 45', 'ROI 51']]\n",
    "plot_t2[\"Average\"] = plot_t2.iloc[:, 1:].mean(axis=1)"
   ]
  },
  {
   "cell_type": "code",
   "execution_count": 10,
   "metadata": {},
   "outputs": [
    {
     "data": {
      "text/plain": [
       "['ROI 1',\n",
       " 'ROI 2',\n",
       " 'ROI 3',\n",
       " 'ROI 7',\n",
       " 'ROI 9',\n",
       " 'ROI 10',\n",
       " 'ROI 13',\n",
       " 'ROI 14',\n",
       " 'ROI 15',\n",
       " 'ROI 17',\n",
       " 'ROI 18',\n",
       " 'ROI 21',\n",
       " 'ROI 23',\n",
       " 'ROI 24',\n",
       " 'ROI 25',\n",
       " 'ROI 26',\n",
       " 'ROI 28',\n",
       " 'ROI 29',\n",
       " 'ROI 30',\n",
       " 'ROI 32',\n",
       " 'ROI 33',\n",
       " 'ROI 35',\n",
       " 'ROI 37',\n",
       " 'ROI 38',\n",
       " 'ROI 39',\n",
       " 'ROI 40',\n",
       " 'ROI 41',\n",
       " 'ROI 42',\n",
       " 'ROI 43',\n",
       " 'ROI 45',\n",
       " 'ROI 46',\n",
       " 'ROI 47',\n",
       " 'ROI 49']"
      ]
     },
     "execution_count": 10,
     "metadata": {},
     "output_type": "execute_result"
    }
   ],
   "source": [
    "### Treatment 3\n",
    "t3_responders = Responders(902.51, 1016.8)\n",
    "ListResponders(t3_responders)"
   ]
  },
  {
   "cell_type": "code",
   "execution_count": 11,
   "metadata": {},
   "outputs": [
    {
     "name": "stderr",
     "output_type": "stream",
     "text": [
      "/opt/anaconda3/lib/python3.7/site-packages/ipykernel_launcher.py:35: SettingWithCopyWarning: \n",
      "A value is trying to be set on a copy of a slice from a DataFrame.\n",
      "Try using .loc[row_indexer,col_indexer] = value instead\n",
      "\n",
      "See the caveats in the documentation: http://pandas.pydata.org/pandas-docs/stable/user_guide/indexing.html#returning-a-view-versus-a-copy\n"
     ]
    }
   ],
   "source": [
    "plot_t3 = normalization[[\"Time (sec)\", \\\n",
    "                         'ROI 1',\n",
    "                         'ROI 2',\n",
    "                         'ROI 3',\n",
    "                         'ROI 7',\n",
    "                         'ROI 9',\n",
    "                         'ROI 10',\n",
    "                         'ROI 13',\n",
    "                         'ROI 14',\n",
    "                         'ROI 15',\n",
    "                         'ROI 17',\n",
    "                         'ROI 18',\n",
    "                         'ROI 21',\n",
    "                         'ROI 23',\n",
    "                         'ROI 24',\n",
    "                         'ROI 25',\n",
    "                         'ROI 26',\n",
    "                         'ROI 28',\n",
    "                         'ROI 29',\n",
    "                         'ROI 30',\n",
    "                         'ROI 32',\n",
    "                         'ROI 33',\n",
    "                         'ROI 35',\n",
    "                         'ROI 37',\n",
    "                         'ROI 38',\n",
    "                         'ROI 39',\n",
    "                         'ROI 40',\n",
    "                         'ROI 41',\n",
    "                         'ROI 42',\n",
    "                         'ROI 43',\n",
    "                         'ROI 45',\n",
    "                         'ROI 46',\n",
    "                         'ROI 47',\n",
    "                         'ROI 49']]\n",
    "plot_t3[\"Average\"] = plot_t3.iloc[:, 1:].mean(axis=1)"
   ]
  },
  {
   "cell_type": "code",
   "execution_count": 12,
   "metadata": {},
   "outputs": [
    {
     "data": {
      "text/plain": [
       "['ROI 5', 'ROI 6', 'ROI 8', 'ROI 36', 'ROI 45', 'ROI 51']"
      ]
     },
     "execution_count": 12,
     "metadata": {},
     "output_type": "execute_result"
    }
   ],
   "source": [
    "#cells that responded to both capsaicin and any beta-alanine\n",
    "ba_cap = pd.merge(t1_responders, t2_responders, on=\"cells\", how=\"inner\")\n",
    "ba_cap = ba_cap.rename(columns={\"response_x\": \"Beta-alanine\",\n",
    "                                \"response_y\": \"Capsaicin\"})\n",
    "ListResponders(ba_cap)"
   ]
  },
  {
   "cell_type": "code",
   "execution_count": 13,
   "metadata": {},
   "outputs": [
    {
     "name": "stderr",
     "output_type": "stream",
     "text": [
      "/opt/anaconda3/lib/python3.7/site-packages/ipykernel_launcher.py:3: SettingWithCopyWarning: \n",
      "A value is trying to be set on a copy of a slice from a DataFrame.\n",
      "Try using .loc[row_indexer,col_indexer] = value instead\n",
      "\n",
      "See the caveats in the documentation: http://pandas.pydata.org/pandas-docs/stable/user_guide/indexing.html#returning-a-view-versus-a-copy\n",
      "  This is separate from the ipykernel package so we can avoid doing imports until\n"
     ]
    }
   ],
   "source": [
    "plot_ba_cap = normalization[[\"Time (sec)\", \n",
    "                         \"ROI 5\", \"ROI 6\",\"ROI 8\", \"ROI 36\", \"ROI 45\", \"ROI 51\"]]\n",
    "plot_ba_cap[\"Average\"] = plot_ba_cap.iloc[:, 1:].mean(axis=1)"
   ]
  },
  {
   "cell_type": "code",
   "execution_count": 14,
   "metadata": {},
   "outputs": [
    {
     "data": {
      "text/plain": [
       "['ROI 1',\n",
       " 'ROI 2',\n",
       " 'ROI 3',\n",
       " 'ROI 4',\n",
       " 'ROI 5',\n",
       " 'ROI 6',\n",
       " 'ROI 8',\n",
       " 'ROI 9',\n",
       " 'ROI 11',\n",
       " 'ROI 12',\n",
       " 'ROI 13',\n",
       " 'ROI 14',\n",
       " 'ROI 15',\n",
       " 'ROI 16',\n",
       " 'ROI 17',\n",
       " 'ROI 19',\n",
       " 'ROI 25',\n",
       " 'ROI 26',\n",
       " 'ROI 27',\n",
       " 'ROI 30',\n",
       " 'ROI 31',\n",
       " 'ROI 32',\n",
       " 'ROI 33',\n",
       " 'ROI 34',\n",
       " 'ROI 36',\n",
       " 'ROI 38',\n",
       " 'ROI 39',\n",
       " 'ROI 42',\n",
       " 'ROI 43',\n",
       " 'ROI 44',\n",
       " 'ROI 45',\n",
       " 'ROI 47',\n",
       " 'ROI 48',\n",
       " 'ROI 49',\n",
       " 'ROI 50',\n",
       " 'ROI 51',\n",
       " 'ROI 7',\n",
       " 'ROI 10',\n",
       " 'ROI 18',\n",
       " 'ROI 21',\n",
       " 'ROI 23',\n",
       " 'ROI 24',\n",
       " 'ROI 28',\n",
       " 'ROI 29',\n",
       " 'ROI 35',\n",
       " 'ROI 37',\n",
       " 'ROI 40',\n",
       " 'ROI 41',\n",
       " 'ROI 46']"
      ]
     },
     "execution_count": 14,
     "metadata": {},
     "output_type": "execute_result"
    }
   ],
   "source": [
    "# cells that responded to any treatment\n",
    "any_treatment = pd.merge(t1_responders, t2_responders, how=\"outer\")\n",
    "any_treatment = any_treatment.rename(columns={\"response_x\": \"Beta-alanine\",\n",
    "                                              \"response_y\": \"Capsaicin\"}) ### need to edit \n",
    "any_treatment = pd.merge(any_treatment, t3_responders, how=\"outer\")\n",
    "any_treatment = any_treatment.rename(columns={\"response\": \"HK\"})\n",
    "\n",
    "ListResponders(any_treatment)"
   ]
  },
  {
   "cell_type": "code",
   "execution_count": 15,
   "metadata": {},
   "outputs": [],
   "source": [
    "#Determining % of reponders\n",
    "per_t1_responders = round(t1_responders[\"cells\"].count()/any_treatment[\"cells\"].count()*100, 2)\n",
    "per_t2_responders = round(t2_responders[\"cells\"].count()/any_treatment[\"cells\"].count()*100, 2)\n",
    "per_t3_responders = round(t3_responders[\"cells\"].count()/any_treatment[\"cells\"].count()*100, 2)\n",
    "per_ba_cap = round(ba_cap[\"cells\"].count()/any_treatment[\"cells\"].count()*100, 2)\n",
    "\n",
    "\n",
    "#Tomato positive percentage counts\n",
    "t1_tomato = t1_responders.loc[t1_responders[\"cells\"].isin(tomato)]\n",
    "per_tomato_t1 = round((ba_tomato[\"cells\"].count()/len(tomato))*100, 2)\n",
    "per_t1_tomato = round((ba_tomato[\"cells\"].count()/t1_responders[\"cells\"].count())*100, 2)\n",
    "\n",
    "t2_tomato = t2_responders.loc[t2_responders[\"cells\"].isin(tomato)]\n",
    "per_tomato_t2 = round((t2_tomato[\"cells\"].count()/len(tomato))*100, 2)\n",
    "per_t2_tomato = round((t2_tomato[\"cells\"].count()/t2_responders[\"cells\"].count())*100, 2)\n",
    "\n",
    "ba_cap_tomato = ba_cap.loc[ba_cap[\"cells\"].isin(tomato)]\n",
    "per_tomato_ba_cap = round((ba_cap_tomato[\"cells\"].count()/len(tomato))*100, 2)\n",
    "per_ba_cap_tomato = round((ba_cap_tomato[\"cells\"].count()/ba_cap[\"cells\"].count())*100, 2)"
   ]
  },
  {
   "cell_type": "code",
   "execution_count": 16,
   "metadata": {},
   "outputs": [
    {
     "data": {
      "text/html": [
       "<div>\n",
       "<style scoped>\n",
       "    .dataframe tbody tr th:only-of-type {\n",
       "        vertical-align: middle;\n",
       "    }\n",
       "\n",
       "    .dataframe tbody tr th {\n",
       "        vertical-align: top;\n",
       "    }\n",
       "\n",
       "    .dataframe thead th {\n",
       "        text-align: right;\n",
       "    }\n",
       "</style>\n",
       "<table border=\"1\" class=\"dataframe\">\n",
       "  <thead>\n",
       "    <tr style=\"text-align: right;\">\n",
       "      <th></th>\n",
       "      <th>Beta alanine (1um)</th>\n",
       "      <th>Capsaicin (10 um)</th>\n",
       "      <th>HK</th>\n",
       "      <th>Beta alanine and capsaicin</th>\n",
       "    </tr>\n",
       "  </thead>\n",
       "  <tbody>\n",
       "    <tr>\n",
       "      <td>0</td>\n",
       "      <td>73.47</td>\n",
       "      <td>12.24</td>\n",
       "      <td>67.35</td>\n",
       "      <td>12.24</td>\n",
       "    </tr>\n",
       "  </tbody>\n",
       "</table>\n",
       "</div>"
      ],
      "text/plain": [
       "   Beta alanine (1um)  Capsaicin (10 um)     HK  Beta alanine and capsaicin\n",
       "0               73.47              12.24  67.35                       12.24"
      ]
     },
     "execution_count": 16,
     "metadata": {},
     "output_type": "execute_result"
    }
   ],
   "source": [
    "treatment_summary = pd.DataFrame({\"Beta alanine (1um)\": [per_t1_responders],\n",
    "                                   \"Capsaicin (10 um)\": [per_t2_responders],\n",
    "                                   \"HK\": [per_t3_responders],\n",
    "                                   \"Beta alanine and capsaicin\": [per_ba_cap],\n",
    "                                   \"% Tomato+ neurons: Beta alanine \": [per_tomato_t1],\n",
    "                                   \"% Beta alanine neurons (tomato+)\": [per_t1_tomato],\n",
    "                                   \"% Tomato+ neurons: Capsaicin\": [per_tomato_t2],\n",
    "                                   \"% Capsaicin neurons (tomato+)\": [per_t2_tomato],\n",
    "                                   \"% Tomato+ neurons: Beta alanine & Capsaicin\": [per_tomato_ba_cap],\n",
    "                                   \"% Beta alanine & Capsaicin neurons (tomato+)\": [per_ba_cap_tomato]\n",
    "                                    })\n",
    "\n",
    "treatment_summary"
   ]
  },
  {
   "cell_type": "code",
   "execution_count": 17,
   "metadata": {},
   "outputs": [],
   "source": [
    "# Exporting files\n",
    "\n",
    "with pd.ExcelWriter('Output.xlsx') as writer:  ##Edit the file name\n",
    "    plot_t1.to_excel(writer, sheet_name='t1', index=False)\n",
    "    plot_t2.to_excel(writer, sheet_name='t2', index=False)\n",
    "    plot_t3.to_excel(writer, sheet_name='t3', index=False)\n",
    "    plot_ba_cap.to_excel(writer, sheet_name='ba_cap', index=False)\n",
    "    treatment_summary.to_excel(writer, sheet_name='summary.csv', index=False)\n",
    "    "
   ]
  }
 ],
 "metadata": {
  "kernelspec": {
   "display_name": "Python 3",
   "language": "python",
   "name": "python3"
  },
  "language_info": {
   "codemirror_mode": {
    "name": "ipython",
    "version": 3
   },
   "file_extension": ".py",
   "mimetype": "text/x-python",
   "name": "python",
   "nbconvert_exporter": "python",
   "pygments_lexer": "ipython3",
   "version": "3.7.4"
  }
 },
 "nbformat": 4,
 "nbformat_minor": 2
}
